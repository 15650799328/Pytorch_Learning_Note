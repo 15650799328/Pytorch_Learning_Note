{
 "cells": [
  {
   "cell_type": "markdown",
   "metadata": {
    "collapsed": true
   },
   "source": [
    "Extension to Pytorch tutorial's [Classifying Names with a Character-Level RNN](http://pytorch.org/tutorials/intermediate/char_rnn_classification_tutorial.html#classifying-names-with-a-character-level-rnn). The main purpose of this script is to demo batch bi-RNN on classification when input dataset has various length. "
   ]
  },
  {
   "cell_type": "code",
   "execution_count": 1,
   "metadata": {},
   "outputs": [
    {
     "data": {
      "text/plain": [
       "<torch._C.Generator at 0x29fe9cbb690>"
      ]
     },
     "execution_count": 1,
     "metadata": {},
     "output_type": "execute_result"
    }
   ],
   "source": [
    "import torch\n",
    "from torch.nn.utils import clip_grad_norm\n",
    "from torch.nn.utils.rnn import pack_padded_sequence, pad_packed_sequence\n",
    "from torch.optim.lr_scheduler import ReduceLROnPlateau\n",
    "from torch.utils.data import DataLoader\n",
    "from torch.utils import data\n",
    "from torch.autograd import Variable\n",
    "import torch.nn as nn\n",
    "import glob, os, string\n",
    "from sklearn.model_selection import StratifiedShuffleSplit\n",
    "from sklearn.metrics import classification_report, confusion_matrix, accuracy_score\n",
    "import matplotlib.pyplot as plt\n",
    "\n",
    "\n",
    "all_letters = string.ascii_letters + \":.,-\\n \"\n",
    "n_letters = len(all_letters)\n",
    "path_to_files = \"./data/names/*.txt\"\n",
    "torch.manual_seed(1)"
   ]
  },
  {
   "cell_type": "markdown",
   "metadata": {},
   "source": [
    "## Prepare Data\n",
    "\n",
    "### Process data into a long list [ (language name, country name),...]"
   ]
  },
  {
   "cell_type": "code",
   "execution_count": 2,
   "metadata": {},
   "outputs": [],
   "source": [
    "def load_data(path_to_files):\n",
    "    files = glob.glob(path_to_files)\n",
    "    country_name = [os.path.basename(file).split(\".\")[0] for file in files]\n",
    "    name_data = []\n",
    "    for file, file_name in zip(files, country_name):\n",
    "        with open(file, 'r') as f:\n",
    "            names = f.readlines()\n",
    "        name_data += [(name.strip()+\"\\n\", file_name) for name in names]\n",
    "    return list(set(name_data)), country_name\n",
    "\n"
   ]
  },
  {
   "cell_type": "markdown",
   "metadata": {},
   "source": [
    "### Convert characters into numbers "
   ]
  },
  {
   "cell_type": "code",
   "execution_count": 3,
   "metadata": {},
   "outputs": [],
   "source": [
    "def prepare_idx(dat):\n",
    "    to_ix = {k: v for v, k in enumerate(dat)}\n",
    "    ix_to = {v: k for k, v in to_ix.items()}\n",
    "    return to_ix, ix_to\n",
    "\n",
    "def sort_batch_data(dat):\n",
    "    # data: [[(name, target), len of name], ...]\n",
    "    name, target = dat[0]\n",
    "    length = dat[1]\n",
    "    sorted_length, sorted_id = length.sort(dim=0, descending=True)\n",
    "    sorted_name = name[sorted_id]\n",
    "    sorted_target = target[sorted_id]\n",
    "    return Variable(torch.t(sorted_name)), Variable(sorted_target).squeeze(), sorted_length"
   ]
  },
  {
   "cell_type": "markdown",
   "metadata": {},
   "source": [
    "### Prepare dataset via Pytorch's DataLoader\n",
    "1. Input data format: [ (language name, country name), ... ] \n",
    "2. Create two torch long tensor with zeros:\n",
    "\tcharacter_tensor ( n samples, length of longest name)\n",
    "\ttarget_tensor  (n samples, 1)\n",
    "3. Convert input data into both tensors. For example, if the longest name has length of 4, a name with length of 2 will be padded 2 zeros at the end. "
   ]
  },
  {
   "cell_type": "code",
   "execution_count": 4,
   "metadata": {},
   "outputs": [],
   "source": [
    "class NameDataset(data.Dataset):\n",
    "    def __init__(self, data, char_to_idx, target_to_idx):\n",
    "        super(NameDataset, self).__init__()\n",
    "        self.data = data\n",
    "        self.names = [x[0] for x in data]\n",
    "        self.targets = [x[1] for x in data]\n",
    "        self.n_sampel = len(self.data)\n",
    "        self.length = [len(x[0]) for x in self.data]\n",
    "\n",
    "        self.char_to_idx = char_to_idx\n",
    "        self.target_to_idx = target_to_idx\n",
    "        self.char_tensor = torch.zeros((self.n_sampel, max(self.length))).long()\n",
    "        self.target_tensor = torch.zeros((self.n_sampel, 1)).long()\n",
    "        self.process_data()\n",
    "\n",
    "    def process_data(self):\n",
    "        for i in range(self.n_sampel):\n",
    "            name, target = self.data[i]\n",
    "            self.char_tensor[i, :self.length[i]] = self.convert_to_tensor(name, self.char_to_idx)\n",
    "            self.target_tensor[i, :] = self.convert_to_tensor([target], self.target_to_idx)\n",
    "\n",
    "    @staticmethod\n",
    "    def convert_to_tensor(char, idx):\n",
    "        return torch.LongTensor([idx[i] for i in char])\n",
    "\n",
    "    def __getitem__(self, index):\n",
    "        return [(self.char_tensor[index], self.target_tensor[index]), self.length[index]]\n",
    "\n",
    "    def __len__(self):\n",
    "        return len(self.data)"
   ]
  },
  {
   "cell_type": "markdown",
   "metadata": {},
   "source": [
    "## The RNN Model:\n",
    "1. Character level embedding \n",
    "2. LSTM or GRU: bi-directional with dropout rate of 0.7\n",
    "3. Linear combination \n",
    "4. Sum over all character values\n",
    "5. Softmax \n",
    "6. Gradient clipping\n",
    "7. Adam optimization with L2 regularization  of 0.0005. Initial learning rate is 1e-3\n",
    "8. Learning rate declining  scheme"
   ]
  },
  {
   "cell_type": "code",
   "execution_count": 5,
   "metadata": {},
   "outputs": [],
   "source": [
    "class RecurrentNet(nn.Module):\n",
    "    def __init__(self, vocab_size, vocab_embed, hidden_dim, target_size, type):\n",
    "        super(RecurrentNet, self).__init__()\n",
    "        self.vocab_embed = vocab_embed\n",
    "        self.hidden_dim = hidden_dim\n",
    "\n",
    "        self.embed = nn.Embedding(vocab_size, vocab_embed)\n",
    "        if type =='LSTM':\n",
    "            self.rnn = nn.LSTM(vocab_embed, hidden_dim//2, num_layers=1, bias=True, bidirectional=True, dropout=0.7)\n",
    "        elif type == 'GRU':\n",
    "            self.rnn = nn.GRU(vocab_embed, hidden_dim//2, num_layers=1, bias=True, bidirectional=True, dropout=0.7)\n",
    "        else:\n",
    "            raise SyntaxError(\"Type Error. Either LSTM or GRU\")\n",
    "        self.type = type\n",
    "        self.char_2_tag = nn.Linear(hidden_dim, target_size)\n",
    "        self.softmax = nn.LogSoftmax(dim=1)\n",
    "\n",
    "    def init_hidden(self, batch_size):\n",
    "        if self.type == \"LSTM\":\n",
    "            hidden_layers = (Variable(torch.zeros((2, batch_size, self.hidden_dim // 2))),\n",
    "                             Variable(torch.zeros((2, batch_size, self.hidden_dim // 2))))\n",
    "        elif self.type == 'GRU':\n",
    "            hidden_layers = Variable(torch.zeros((2, batch_size, self.hidden_dim // 2)))\n",
    "        return hidden_layers\n",
    "\n",
    "    def forward(self, name_tensor, sorted_length):\n",
    "        embed_name = self.embed(name_tensor)\n",
    "        packed_name = pack_padded_sequence(embed_name, sorted_length.tolist())\n",
    "        char_gru, char_hidden = self.rnn(packed_name, self.hidden)\n",
    "        pad_char, _ = pad_packed_sequence(char_gru)\n",
    "        target_space = self.char_2_tag(pad_char)\n",
    "        target_space = target_space.sum(dim=0)\n",
    "        target_score = self.softmax(target_space)\n",
    "        return target_score\n"
   ]
  },
  {
   "cell_type": "markdown",
   "metadata": {},
   "source": [
    "## Prepare train/dev/test data\n",
    "The input data has various counts for each country, so I split it by weights of each country. \n",
    "\n",
    "Train: 80%  used to build the model\n",
    "\n",
    "Dev : 10%  used to configure model parameters\n",
    "\n",
    "Test : 10% test"
   ]
  },
  {
   "cell_type": "code",
   "execution_count": 6,
   "metadata": {},
   "outputs": [],
   "source": [
    "def split_data(data, test_size=0.2, train_size=0.8, random_state=1):\n",
    "    splitter = StratifiedShuffleSplit(test_size=test_size,\n",
    "                                      train_size=train_size,\n",
    "                                      random_state=random_state)\n",
    "    y_true = [x[1] for x in data]\n",
    "    for train_index, test_index in splitter.split(data, y_true):\n",
    "        train = [data[i] for i in train_index]\n",
    "        test = [data[i] for i in test_index]\n",
    "    return train, test"
   ]
  },
  {
   "cell_type": "code",
   "execution_count": 7,
   "metadata": {},
   "outputs": [
    {
     "name": "stdout",
     "output_type": "stream",
     "text": [
      "[('Finnimore\\n', 'English'), ('Hinds\\n', 'English'), ('Tai\\n', 'Chinese'), ('Exton\\n', 'English'), ('Miyamae\\n', 'Japanese')]\n",
      "['Arabic', 'Chinese', 'English', 'Japanese', 'Korean']\n"
     ]
    }
   ],
   "source": [
    "name_data, countries = load_data(path_to_files)\n",
    "print(name_data[:5])\n",
    "print(countries[:5])\n"
   ]
  },
  {
   "cell_type": "code",
   "execution_count": 8,
   "metadata": {},
   "outputs": [
    {
     "name": "stdout",
     "output_type": "stream",
     "text": [
      "Length of training set 4084\n"
     ]
    }
   ],
   "source": [
    "train, test_ = split_data(name_data, test_size=0.2, train_size=0.8, random_state=1)\n",
    "print(\"Length of training set {}\".format(len(train)))"
   ]
  },
  {
   "cell_type": "code",
   "execution_count": 9,
   "metadata": {},
   "outputs": [
    {
     "name": "stdout",
     "output_type": "stream",
     "text": [
      "Length of dev set 511;\n",
      "length of test set 511.\n"
     ]
    }
   ],
   "source": [
    "dev, test = split_data(test_, test_size=0.5, train_size=0.5, random_state=2)\n",
    "print(\"Length of dev set {};\\nlength of test set {}.\".format(len(dev),len(test)))"
   ]
  },
  {
   "cell_type": "code",
   "execution_count": 10,
   "metadata": {},
   "outputs": [],
   "source": [
    "char_to_ix, ix_to_char = prepare_idx(all_letters)\n",
    "target_to_ix, ix_to_target = prepare_idx(countries)\n",
    "\n",
    "batch_size = 64"
   ]
  },
  {
   "cell_type": "code",
   "execution_count": 11,
   "metadata": {},
   "outputs": [],
   "source": [
    "train_set = NameDataset(train, char_to_ix, target_to_ix)\n",
    "train_data = DataLoader(train_set, batch_size, shuffle=True)\n",
    "\n",
    "dev_set = NameDataset(dev, char_to_ix, target_to_ix)\n",
    "dev_data = DataLoader(dev_set, batch_size, shuffle=True)\n",
    "\n",
    "test_set = NameDataset(test, char_to_ix, target_to_ix)\n",
    "test_data = DataLoader(test_set, len(test), shuffle=True)"
   ]
  },
  {
   "cell_type": "markdown",
   "metadata": {},
   "source": [
    "To speed up backprop, I clip gradientss that are larger than 10 and add a learning rate declinding scheme."
   ]
  },
  {
   "cell_type": "code",
   "execution_count": 12,
   "metadata": {},
   "outputs": [],
   "source": [
    "vocab_size = len(char_to_ix)\n",
    "target_size = len(target_to_ix)\n",
    "vocab_embed = 80\n",
    "hidden_dim = 60\n",
    "iterations = 10\n",
    "\n",
    "model = RecurrentNet(vocab_size, vocab_embed, hidden_dim, target_size, \"LSTM\")\n",
    "loss_fn = nn.CrossEntropyLoss()\n",
    "optimizer = torch.optim.Adam(model.parameters(), lr=1e-3, weight_decay=0.0005)\n",
    "optim_scheduler = ReduceLROnPlateau(optimizer, mode='min', factor=0.1, verbose=True, patience=1)\n",
    "loss_cache = []\n"
   ]
  },
  {
   "cell_type": "code",
   "execution_count": 13,
   "metadata": {},
   "outputs": [
    {
     "name": "stdout",
     "output_type": "stream",
     "text": [
      "Epoch 1 : 38.08849\n",
      "Epoch 2 : 22.18404\n",
      "Epoch 3 : 17.12583\n",
      "Epoch 4 : 14.36953\n",
      "Epoch 5 : 12.81506\n",
      "Epoch 6 : 11.73068\n",
      "Epoch 7 : 10.74078\n",
      "Epoch 8 : 10.23288\n",
      "Epoch 9 : 9.61407\n",
      "Epoch 10 : 9.01092\n"
     ]
    }
   ],
   "source": [
    "for i in range(iterations):\n",
    "    total_loss = []\n",
    "    for batch_data in train_data:\n",
    "        name, target, length = sort_batch_data(batch_data)\n",
    "        batch_size = len(length)\n",
    "        model.zero_grad()\n",
    "        model.hidden = model.init_hidden(batch_size)\n",
    "        target_score = model(name, length)\n",
    "        loss = loss_fn(target_score, target)\n",
    "        loss.backward()\n",
    "        clip_grad_norm(model.parameters(), max_norm=10)\n",
    "        optimizer.step()\n",
    "        total_loss.append(loss.data[0] * batch_size)\n",
    "    loss_avg = sum(total_loss) / len(total_loss)\n",
    "    optim_scheduler.step(loss_avg)\n",
    "    print(\"Epoch {} : {:.5f}\".format(i+1, loss_avg))\n",
    "    loss_cache.append(loss_avg)"
   ]
  },
  {
   "cell_type": "markdown",
   "metadata": {},
   "source": [
    "### Learning Curve:"
   ]
  },
  {
   "cell_type": "code",
   "execution_count": 14,
   "metadata": {},
   "outputs": [
    {
     "data": {
      "text/plain": [
       "[<matplotlib.lines.Line2D at 0x29fecb6d048>]"
      ]
     },
     "execution_count": 14,
     "metadata": {},
     "output_type": "execute_result"
    },
    {
     "data": {
      "image/png": "[encoded data removed]",
      "text/plain": [
       "<matplotlib.figure.Figure at 0x29feba29dd8>"
      ]
     },
     "metadata": {},
     "output_type": "display_data"
    }
   ],
   "source": [
    "plt.plot(loss_cache)\n"
   ]
  },
  {
   "cell_type": "markdown",
   "metadata": {},
   "source": [
    "### Evaluation\n",
    "Main metric is average accuracy. Additional scores such as F1 and confusion matrix are used to analysis error. \n"
   ]
  },
  {
   "cell_type": "code",
   "execution_count": 15,
   "metadata": {},
   "outputs": [],
   "source": [
    "def evaluation(data):\n",
    "    # post-process data from data loader\n",
    "    target_pred = []\n",
    "    target_true = []\n",
    "    for batch_data in data:\n",
    "        name, target, length = sort_batch_data(batch_data)\n",
    "        batch_size = len(length)\n",
    "        model.hidden = model.init_hidden(batch_size)\n",
    "        target_score = model(name, length)\n",
    "        score, category = torch.max(target_score, dim=1)\n",
    "        target_pred += category.data.tolist()\n",
    "        target_true += target.data.tolist()\n",
    "    return target_pred, target_true"
   ]
  },
  {
   "cell_type": "markdown",
   "metadata": {},
   "source": [
    "#### Training Data Result"
   ]
  },
  {
   "cell_type": "code",
   "execution_count": 16,
   "metadata": {},
   "outputs": [
    {
     "name": "stdout",
     "output_type": "stream",
     "text": [
      "Accuracy rate is 0.9591\n"
     ]
    }
   ],
   "source": [
    "target_pred, target_true = evaluation(train_data)\n",
    "accuracy = accuracy_score(target_true, target_pred)\n",
    "print(\"Accuracy rate is {:.4f}\".format(accuracy))"
   ]
  },
  {
   "cell_type": "code",
   "execution_count": 17,
   "metadata": {},
   "outputs": [
    {
     "name": "stdout",
     "output_type": "stream",
     "text": [
      "             precision    recall  f1-score   support\n",
      "\n",
      "     Arabic       0.76      0.43      0.55        86\n",
      "    Chinese       0.77      0.91      0.84       197\n",
      "    English       0.98      0.99      0.98      2934\n",
      "   Japanese       0.98      0.96      0.97       792\n",
      "     Korean       0.66      0.44      0.53        75\n",
      "\n",
      "avg / total       0.96      0.96      0.96      4084\n",
      "\n",
      "M_{i,j} where i is true group and j is predicted group\n",
      "\n",
      "['Arabic', 'Chinese', 'English', 'Japanese', 'Korean']\n",
      "[[  37    3   36    9    1]\n",
      " [   0  180    4    3   10]\n",
      " [   8   12 2905    5    4]\n",
      " [   3    7   18  762    2]\n",
      " [   1   32    8    1   33]]\n"
     ]
    }
   ],
   "source": [
    "report = classification_report(target_true, target_pred, target_names=list(target_to_ix))\n",
    "print(report)\n",
    "\n",
    "error_matrix = confusion_matrix(target_true, target_pred)\n",
    "print(\"M_{i,j} where i is true group and j is predicted group\\n\")\n",
    "print(list(target_to_ix))\n",
    "print(error_matrix)\n",
    "\n",
    "y_true = [ix_to_target[i] for i in target_true]\n",
    "y_pred = [ix_to_target[i] for i in target_pred]"
   ]
  },
  {
   "cell_type": "markdown",
   "metadata": {},
   "source": [
    "#### Dev Data Result"
   ]
  },
  {
   "cell_type": "code",
   "execution_count": 18,
   "metadata": {},
   "outputs": [
    {
     "name": "stdout",
     "output_type": "stream",
     "text": [
      "Accuracy rate is 0.9315\n"
     ]
    }
   ],
   "source": [
    "target_pred, target_true = evaluation(dev_data)\n",
    "accuracy = accuracy_score(target_true, target_pred)\n",
    "print(\"Accuracy rate is {:.4f}\".format(accuracy))"
   ]
  },
  {
   "cell_type": "code",
   "execution_count": 19,
   "metadata": {},
   "outputs": [
    {
     "name": "stdout",
     "output_type": "stream",
     "text": [
      "             precision    recall  f1-score   support\n",
      "\n",
      "     Arabic       0.50      0.27      0.35        11\n",
      "    Chinese       0.59      0.83      0.69        24\n",
      "    English       0.98      0.98      0.98       367\n",
      "   Japanese       0.92      0.93      0.92        99\n",
      "     Korean       0.33      0.20      0.25        10\n",
      "\n",
      "avg / total       0.93      0.93      0.93       511\n",
      "\n",
      "M_{i,j} where i is true group and j is predicted group\n",
      "\n",
      "['Arabic', 'Chinese', 'English', 'Japanese', 'Korean']\n",
      "[[  3   0   4   4   0]\n",
      " [  0  20   1   1   2]\n",
      " [  1   4 359   1   2]\n",
      " [  2   4   1  92   0]\n",
      " [  0   6   0   2   2]]\n"
     ]
    }
   ],
   "source": [
    "report = classification_report(target_true, target_pred, target_names=list(target_to_ix))\n",
    "print(report)\n",
    "\n",
    "error_matrix = confusion_matrix(target_true, target_pred)\n",
    "print(\"M_{i,j} where i is true group and j is predicted group\\n\")\n",
    "print(list(target_to_ix))\n",
    "print(error_matrix)\n",
    "\n",
    "y_true = [ix_to_target[i] for i in target_true]\n",
    "y_pred = [ix_to_target[i] for i in target_pred]"
   ]
  },
  {
   "cell_type": "markdown",
   "metadata": {},
   "source": [
    "#### Test Data Result"
   ]
  },
  {
   "cell_type": "code",
   "execution_count": 20,
   "metadata": {},
   "outputs": [
    {
     "name": "stdout",
     "output_type": "stream",
     "text": [
      "Accuracy rate is 0.9335\n"
     ]
    }
   ],
   "source": [
    "target_pred, target_true = evaluation(test_data)\n",
    "accuracy = accuracy_score(target_true, target_pred)\n",
    "print(\"Accuracy rate is {:.4f}\".format(accuracy))"
   ]
  },
  {
   "cell_type": "code",
   "execution_count": 21,
   "metadata": {},
   "outputs": [
    {
     "name": "stdout",
     "output_type": "stream",
     "text": [
      "             precision    recall  f1-score   support\n",
      "\n",
      "     Arabic       0.50      0.18      0.27        11\n",
      "    Chinese       0.71      0.80      0.75        25\n",
      "    English       0.96      0.98      0.97       367\n",
      "   Japanese       0.93      0.96      0.95        99\n",
      "     Korean       0.33      0.22      0.27         9\n",
      "\n",
      "avg / total       0.93      0.93      0.93       511\n",
      "\n",
      "M_{i,j} where i is true group and j is predicted group\n",
      "\n",
      "['Arabic', 'Chinese', 'English', 'Japanese', 'Korean']\n",
      "[[  2   0   7   2   0]\n",
      " [  0  20   2   0   3]\n",
      " [  1   2 358   5   1]\n",
      " [  1   0   3  95   0]\n",
      " [  0   6   1   0   2]]\n"
     ]
    }
   ],
   "source": [
    "report = classification_report(target_true, target_pred, target_names=list(target_to_ix))\n",
    "print(report)\n",
    "\n",
    "error_matrix = confusion_matrix(target_true, target_pred)\n",
    "print(\"M_{i,j} where i is true group and j is predicted group\\n\")\n",
    "print(list(target_to_ix))\n",
    "print(error_matrix)\n",
    "\n",
    "y_true = [ix_to_target[i] for i in target_true]\n",
    "y_pred = [ix_to_target[i] for i in target_pred]"
   ]
  }
 ],
 "metadata": {
  "kernelspec": {
   "display_name": "Python 3",
   "language": "python",
   "name": "python3"
  },
  "language_info": {
   "codemirror_mode": {
    "name": "ipython",
    "version": 3
   },
   "file_extension": ".py",
   "mimetype": "text/x-python",
   "name": "python",
   "nbconvert_exporter": "python",
   "pygments_lexer": "ipython3",
   "version": "3.6.4"
  }
 },
 "nbformat": 4,
 "nbformat_minor": 1
}
